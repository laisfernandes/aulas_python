{
 "cells": [
  {
   "cell_type": "code",
   "execution_count": 10,
   "metadata": {},
   "outputs": [],
   "source": [
    "# criando a lista da feira\n",
    "feira = ['banana', 'pera', 'batata', 'uva','cebola', 'alho', 'açúcar']\n",
    "\n",
    "# removendo o que não dá pra comprar na feira\n",
    "feira.remove('açúcar')\n",
    "\n",
    "# adicionando maçã e cenoura\n",
    "feira.append('maçã')\n",
    "feira.append('cenoura')\n",
    "\n",
    "# separando em sacolas as frutas e legumes\n",
    "feira_frutas = ['banana', 'pera', 'uva', 'maçã']\n",
    "feira_legumes = ['batata', 'cebola', 'alho', 'cenoura']\n",
    "\n",
    "# ordenando as sacolas\n",
    "feira.sort()\n",
    "feira_frutas.sort()\n",
    "feira_legumes.sort()"
   ]
  },
  {
   "cell_type": "code",
   "execution_count": 13,
   "metadata": {},
   "outputs": [
    {
     "name": "stdout",
     "output_type": "stream",
     "text": [
      "['alho', 'banana', 'batata', 'cebola', 'cenoura', 'maçã', 'pera', 'uva'] ['banana', 'maçã', 'pera', 'uva'] ['alho', 'batata', 'cebola', 'cenoura']\n"
     ]
    }
   ],
   "source": [
    "print(feira, feira_frutas, feira_legumes)"
   ]
  },
  {
   "cell_type": "code",
   "execution_count": 20,
   "metadata": {},
   "outputs": [],
   "source": [
    "# criando o dicionário da feira com os valores\n",
    "\n",
    "feira_dic = [('banana',0.98),('maçã',7.00),('pera',5.00),('cenoura',3.5)]"
   ]
  },
  {
   "cell_type": "code",
   "execution_count": 21,
   "metadata": {},
   "outputs": [
    {
     "data": {
      "text/plain": [
       "[('banana', 0.98), ('maçã', 7.0), ('pera', 5.0), ('cenoura', 3.5)]"
      ]
     },
     "execution_count": 21,
     "metadata": {},
     "output_type": "execute_result"
    }
   ],
   "source": [
    "feira_dic"
   ]
  },
  {
   "cell_type": "code",
   "execution_count": 25,
   "metadata": {},
   "outputs": [],
   "source": [
    " dic = dict(feira_dic)"
   ]
  },
  {
   "cell_type": "code",
   "execution_count": 26,
   "metadata": {},
   "outputs": [
    {
     "data": {
      "text/plain": [
       "dict"
      ]
     },
     "execution_count": 26,
     "metadata": {},
     "output_type": "execute_result"
    }
   ],
   "source": [
    "type(dic)"
   ]
  },
  {
   "cell_type": "code",
   "execution_count": 27,
   "metadata": {},
   "outputs": [
    {
     "data": {
      "text/plain": [
       "{'banana': 0.98, 'maçã': 7.0, 'pera': 5.0, 'cenoura': 3.5}"
      ]
     },
     "execution_count": 27,
     "metadata": {},
     "output_type": "execute_result"
    }
   ],
   "source": [
    "dic"
   ]
  },
  {
   "cell_type": "code",
   "execution_count": null,
   "metadata": {},
   "outputs": [],
   "source": []
  }
 ],
 "metadata": {
  "kernelspec": {
   "display_name": "Python 3",
   "language": "python",
   "name": "python3"
  },
  "language_info": {
   "codemirror_mode": {
    "name": "ipython",
    "version": 3
   },
   "file_extension": ".py",
   "mimetype": "text/x-python",
   "name": "python",
   "nbconvert_exporter": "python",
   "pygments_lexer": "ipython3",
   "version": "3.8.3"
  }
 },
 "nbformat": 4,
 "nbformat_minor": 4
}
