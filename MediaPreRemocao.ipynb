{
 "cells": [
  {
   "cell_type": "code",
   "execution_count": 2,
   "metadata": {},
   "outputs": [
    {
     "name": "stdout",
     "output_type": "stream",
     "text": [
      "Sua média é:  4.56\n"
     ]
    }
   ],
   "source": [
    "# criando o array de notas\n",
    "notas = [9,6,7,3,8,8,\"oito\", \"A\", \"C\"]\n",
    "\n",
    "# contando posições do array\n",
    "total_notas = len(notas)\n",
    "\n",
    "# removendo notas indesejadas\n",
    "notas.remove(\"oito\")\n",
    "notas.remove(\"A\")\n",
    "notas.remove(\"C\")\n",
    "\n",
    "# calculando a média\n",
    "media = print(\"Sua média é: \", round((sum(notas)/total_notas),2))"
   ]
  },
  {
   "cell_type": "code",
   "execution_count": null,
   "metadata": {},
   "outputs": [],
   "source": []
  }
 ],
 "metadata": {
  "kernelspec": {
   "display_name": "Python 3",
   "language": "python",
   "name": "python3"
  },
  "language_info": {
   "codemirror_mode": {
    "name": "ipython",
    "version": 3
   },
   "file_extension": ".py",
   "mimetype": "text/x-python",
   "name": "python",
   "nbconvert_exporter": "python",
   "pygments_lexer": "ipython3",
   "version": "3.8.3"
  }
 },
 "nbformat": 4,
 "nbformat_minor": 4
}
