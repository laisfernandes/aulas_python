{
 "cells": [
  {
   "cell_type": "code",
   "execution_count": 12,
   "metadata": {},
   "outputs": [
    {
     "name": "stdin",
     "output_type": "stream",
     "text": [
      "Qual operação deseja realizar? + para soma - para subtração * para multiplicação e / para divisão +\n"
     ]
    },
    {
     "name": "stdout",
     "output_type": "stream",
     "text": [
      "30\n"
     ]
    }
   ],
   "source": [
    "# definindo as variáveis que serão usadas nos cálculos\n",
    "valor1 = 10\n",
    "valor2 = 20\n",
    "valor3 = 0\n",
    "\n",
    "# solicitando ao usuário o tipo de operação que ele gostaria de realizar\n",
    "operacao = str(input(\"Qual operação deseja realizar? + para soma - para subtração * para multiplicação e / para divisão\"))\n",
    "\n",
    "#realizando o cálculo\n",
    "if (operacao == \"+\"):\n",
    "    resultado = valor1 + valor2\n",
    "elif (operacao == \"-\"):\n",
    "    resultado = valor2 - valor3\n",
    "elif (operacao == \"*\"):\n",
    "    resultado = valor1 * valor3\n",
    "elif (operacao == \"/\"):\n",
    "    if (valor3 > 0):\n",
    "        resultado = valor2 / valor3\n",
    "    else:\n",
    "        # validando o denominador\n",
    "        resultado = \"Divisão por 0 não pode ser realizada\"\n",
    "print(resultado)"
   ]
  },
  {
   "cell_type": "code",
   "execution_count": null,
   "metadata": {},
   "outputs": [],
   "source": []
  }
 ],
 "metadata": {
  "kernelspec": {
   "display_name": "Python 3",
   "language": "python",
   "name": "python3"
  },
  "language_info": {
   "codemirror_mode": {
    "name": "ipython",
    "version": 3
   },
   "file_extension": ".py",
   "mimetype": "text/x-python",
   "name": "python",
   "nbconvert_exporter": "python",
   "pygments_lexer": "ipython3",
   "version": "3.8.3"
  }
 },
 "nbformat": 4,
 "nbformat_minor": 4
}
