{
 "cells": [
  {
   "cell_type": "code",
   "execution_count": 8,
   "metadata": {},
   "outputs": [
    {
     "name": "stdin",
     "output_type": "stream",
     "text": [
      "Qual operação deseja realizar? + para soma | - para subtração | * para multiplicação | / para divisão /\n",
      "Valor 1 10\n",
      "Valor 2 0\n"
     ]
    },
    {
     "name": "stdout",
     "output_type": "stream",
     "text": [
      "Divisão poer 0 não permitida\n"
     ]
    }
   ],
   "source": [
    "# solicitando as entradas do usuário, primeiro a operação, depois os valores\n",
    "operacao = str(input(\"Qual operação deseja realizar? + para soma | - para subtração | * para multiplicação | / para divisão\"))\n",
    "valor1 = float(input(\"Valor 1\"))\n",
    "valor2 = float(input(\"Valor 2\"))\n",
    "\n",
    "# realizando o cálculo\n",
    "if (operacao == \"+\"):\n",
    "    resultado = valor1 + valor2\n",
    "elif (operacao == \"-\"):\n",
    "    resultado = valor1 - valor2\n",
    "elif (operacao == \"*\"):\n",
    "    resultado = valor1 * valor2\n",
    "elif (operacao == \"/\"):\n",
    "    if(valor2 > 0):\n",
    "        resultado = valor1 / valor2\n",
    "    else:\n",
    "        # validando denominador\n",
    "        resultado = \"Divisão por 0 não permitida\"\n",
    "print(resultado)"
   ]
  },
  {
   "cell_type": "code",
   "execution_count": null,
   "metadata": {},
   "outputs": [],
   "source": []
  }
 ],
 "metadata": {
  "kernelspec": {
   "display_name": "Python 3",
   "language": "python",
   "name": "python3"
  },
  "language_info": {
   "codemirror_mode": {
    "name": "ipython",
    "version": 3
   },
   "file_extension": ".py",
   "mimetype": "text/x-python",
   "name": "python",
   "nbconvert_exporter": "python",
   "pygments_lexer": "ipython3",
   "version": "3.8.3"
  }
 },
 "nbformat": 4,
 "nbformat_minor": 4
}
