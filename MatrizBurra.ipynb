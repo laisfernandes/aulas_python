{
 "cells": [
  {
   "cell_type": "code",
   "execution_count": 4,
   "metadata": {},
   "outputs": [
    {
     "data": {
      "text/plain": [
       "[[7, 7, 7, 7], [7, 7, 7, 7]]"
      ]
     },
     "execution_count": 4,
     "metadata": {},
     "output_type": "execute_result"
    }
   ],
   "source": [
    "# criando a matriz\n",
    "\n",
    "def crie_matriz(n_linhas, n_colunas, valor):\n",
    "    \n",
    "    # criando a lista que irá receber os valores\n",
    "    matriz = []\n",
    "    for i in range(n_linhas):\n",
    "        linha = []\n",
    "        for j in range(n_colunas):\n",
    "            linha += [valor]\n",
    "        matriz += [linha]\n",
    "    return matriz\n",
    "\n",
    "crie_matriz(3,3,9)"
   ]
  },
  {
   "cell_type": "code",
   "execution_count": 12,
   "metadata": {},
   "outputs": [
    {
     "name": "stdin",
     "output_type": "stream",
     "text": [
      "Quantas linhas? 4\n",
      "Quantas colunas? 3\n",
      "Qual valor? 7\n"
     ]
    },
    {
     "data": {
      "text/plain": [
       "[[7, 7, 7], [7, 7, 7], [7, 7, 7], [7, 7, 7]]"
      ]
     },
     "execution_count": 12,
     "metadata": {},
     "output_type": "execute_result"
    }
   ],
   "source": [
    "# criando entradas do teclado\n",
    "linha = int(input(\"Quantas linhas?\"))\n",
    "coluna = int(input(\"Quantas colunas?\"))\n",
    "valor = int(input(\"Qual valor?\"))\n",
    "\n",
    "# criando a função para ler a matriz B\n",
    "def leia_matriz(n_linhas, n_colunas, valor):\n",
    "\n",
    "    matriz = []\n",
    "    for i in range(n_linhas):\n",
    "        linha = []\n",
    "        for j in range(n_colunas):\n",
    "            linha += [valor]\n",
    "        matriz += [linha]\n",
    "    return matriz\n",
    "\n",
    "# apresentando a matriz\n",
    "leia_matriz(linha, coluna, valor)"
   ]
  },
  {
   "cell_type": "code",
   "execution_count": 7,
   "metadata": {},
   "outputs": [
    {
     "name": "stdout",
     "output_type": "stream",
     "text": [
      "1 2 3 \n",
      "2 1 4 \n",
      "3 4 1 \n"
     ]
    }
   ],
   "source": [
    "matriz = ([[1,2,3],[2,1,4],[3,4,1]])\n",
    "\n",
    "def imprime_matriz(matriz):\n",
    "    \n",
    "    for linha in matriz:\n",
    "        for elemento in linha:\n",
    "            print(elemento, end = \" \")\n",
    "        print()\n",
    "\n",
    "imprime_matriz(matriz)"
   ]
  },
  {
   "cell_type": "code",
   "execution_count": 18,
   "metadata": {},
   "outputs": [
    {
     "name": "stdin",
     "output_type": "stream",
     "text": [
      "Digite o número de linhas da matriz quadrada:  2\n"
     ]
    },
    {
     "name": "stdout",
     "output_type": "stream",
     "text": [
      "Matriz 2x2:\n"
     ]
    },
    {
     "name": "stdin",
     "output_type": "stream",
     "text": [
      "Valor da 1a. linha, 1a. coluna:  2\n",
      "Valor da 1a. linha, 2a. coluna:  10\n",
      "Valor da 2a. linha, 1a. coluna:  6\n",
      "Valor da 2a. linha, 2a. coluna:  2\n"
     ]
    },
    {
     "name": "stdout",
     "output_type": "stream",
     "text": [
      "Não simétrica.\n"
     ]
    }
   ],
   "source": [
    "linha = int(input(\"Digite o número de linhas da matriz quadrada: \"))\n",
    "\n",
    "print(\"Matriz %dx%d:\" %(linha,coluna))\n",
    "A = []\n",
    "for i in range(coluna):\n",
    "    A.append([])\n",
    "    for j in range(linha):\n",
    "        valor = input(\"Valor da %da. linha, %da. coluna: \" %(i+1,j+1))\n",
    "        A[i].append(valor)    \n",
    "        \n",
    "simetrica = True\n",
    "i = 0\n",
    "while simetrica and i < linha:\n",
    "    j = 0\n",
    "    while simetrica and j < i:\n",
    "        if A[i][j] != A[j][i]:\n",
    "            simetrica = False\n",
    "        j += 1\n",
    "    i += 1\n",
    "\n",
    "if simetrica:\n",
    "    print(\"Simétrica.\")\n",
    "else:\n",
    "    print(\"Não simétrica.\")"
   ]
  },
  {
   "cell_type": "code",
   "execution_count": 24,
   "metadata": {},
   "outputs": [
    {
     "name": "stdin",
     "output_type": "stream",
     "text": [
      "Digite o numero de linhas da matriz A:  2\n"
     ]
    },
    {
     "name": "stdout",
     "output_type": "stream",
     "text": [
      "Matriz 2x2:\n"
     ]
    },
    {
     "name": "stdin",
     "output_type": "stream",
     "text": [
      "Valor da 1a. linha, 1a. coluna:  10\n",
      "Valor da 1a. linha, 2a. coluna:  2\n",
      "Valor da 2a. linha, 1a. coluna:  2\n",
      "Valor da 2a. linha, 2a. coluna:  0\n"
     ]
    },
    {
     "name": "stdout",
     "output_type": "stream",
     "text": [
      "10 2 \n",
      "2 0 \n",
      "Simétrica.\n"
     ]
    }
   ],
   "source": [
    "linha = int(input(\"Digite o numero de linhas da matriz A: \"))\n",
    "\n",
    "print(\"Matriz %dx%d:\" %(linha,coluna))\n",
    "\n",
    "A = []\n",
    "\n",
    "for i in range(coluna):\n",
    "    A.append([])\n",
    "    for j in range(linha):\n",
    "        valor = input(\"Valor da %da. linha, %da. coluna: \" %(i+1,j+1))\n",
    "        A[i].append(valor)   \n",
    "\n",
    "\n",
    "def imprime_matriz(A):\n",
    "    for linha in A:\n",
    "        for valor in linha:\n",
    "            print(valor, end = \" \")\n",
    "        print()\n",
    "\n",
    "imprime_matriz(A)\n",
    "\n",
    "def main():\n",
    "    simetrica = True\n",
    "    i = 0\n",
    "    while simetrica and i < linha:\n",
    "        j = 0\n",
    "        while simetrica and j < i:\n",
    "            if A[i][j] != A[j][i]:\n",
    "                simetrica = False\n",
    "            j += 1\n",
    "        i += 1\n",
    "\n",
    "    if simetrica:\n",
    "        print(\"Simétrica.\")\n",
    "    else:\n",
    "        print(\"Não simétrica.\")\n",
    "main()"
   ]
  },
  {
   "cell_type": "code",
   "execution_count": null,
   "metadata": {},
   "outputs": [],
   "source": []
  }
 ],
 "metadata": {
  "kernelspec": {
   "display_name": "Python 3",
   "language": "python",
   "name": "python3"
  },
  "language_info": {
   "codemirror_mode": {
    "name": "ipython",
    "version": 3
   },
   "file_extension": ".py",
   "mimetype": "text/x-python",
   "name": "python",
   "nbconvert_exporter": "python",
   "pygments_lexer": "ipython3",
   "version": "3.8.3"
  }
 },
 "nbformat": 4,
 "nbformat_minor": 4
}
