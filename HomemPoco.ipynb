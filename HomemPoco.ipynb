{
 "cells": [
  {
   "cell_type": "code",
   "execution_count": 158,
   "metadata": {},
   "outputs": [
    {
     "name": "stdout",
     "output_type": "stream",
     "text": [
      "A minhoca demorou 10.0 dias para subir o poço de 10 metros\n"
     ]
    }
   ],
   "source": [
    "class Poco:\n",
    "    def __init__(self,altura,sobe,desce):\n",
    "        self.altura = altura\n",
    "        self.sobe = sobe\n",
    "        self.desce = desce\n",
    "        \n",
    "    def setAltura(self,altura):\n",
    "        self.altura = altura\n",
    "        print(altura)\n",
    "    \n",
    "    def setSobe(self,sobe):\n",
    "        self.sobe = sobe\n",
    "        \n",
    "    def setDesce(self,desce):\n",
    "        self.desce = desce\n",
    "        \n",
    "    def getAltura(self):\n",
    "        return self.altura\n",
    "    \n",
    "    def getSobe(self):\n",
    "        return self.sobe\n",
    "    \n",
    "    def getDesce(self):\n",
    "        return self.desce\n",
    "    \n",
    "poco = Poco(10,2,1)\n",
    "\n",
    "dias = poco.altura / (poco.sobe - poco.desce)\n",
    "\n",
    "print(\"A minhoca demorou\", dias, \"dias para subir o poço de 10 metros\")"
   ]
  },
  {
   "cell_type": "code",
   "execution_count": 137,
   "metadata": {},
   "outputs": [
    {
     "data": {
      "text/plain": [
       "10"
      ]
     },
     "execution_count": 137,
     "metadata": {},
     "output_type": "execute_result"
    }
   ],
   "source": [
    "poco.getAltura()"
   ]
  },
  {
   "cell_type": "code",
   "execution_count": 138,
   "metadata": {},
   "outputs": [
    {
     "data": {
      "text/plain": [
       "3"
      ]
     },
     "execution_count": 138,
     "metadata": {},
     "output_type": "execute_result"
    }
   ],
   "source": [
    "poco.getSobe()"
   ]
  },
  {
   "cell_type": "code",
   "execution_count": 139,
   "metadata": {},
   "outputs": [
    {
     "data": {
      "text/plain": [
       "1"
      ]
     },
     "execution_count": 139,
     "metadata": {},
     "output_type": "execute_result"
    }
   ],
   "source": [
    "poco.getDesce()"
   ]
  },
  {
   "cell_type": "code",
   "execution_count": null,
   "metadata": {},
   "outputs": [],
   "source": []
  }
 ],
 "metadata": {
  "kernelspec": {
   "display_name": "Python 3",
   "language": "python",
   "name": "python3"
  },
  "language_info": {
   "codemirror_mode": {
    "name": "ipython",
    "version": 3
   },
   "file_extension": ".py",
   "mimetype": "text/x-python",
   "name": "python",
   "nbconvert_exporter": "python",
   "pygments_lexer": "ipython3",
   "version": "3.8.3"
  }
 },
 "nbformat": 4,
 "nbformat_minor": 4
}
