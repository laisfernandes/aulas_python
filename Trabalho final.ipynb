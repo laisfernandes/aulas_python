{
 "cells": [
  {
   "cell_type": "code",
   "execution_count": 223,
   "metadata": {},
   "outputs": [],
   "source": [
    "# importando a biblioteca pandas\n",
    "\n",
    "import pandas as pd\n",
    "\n",
    "# importando as planilhas\n",
    "\n",
    "cadastro_df = pd.read_csv(\"dataset/cadastro - cadastro.csv\")\n",
    "salario_profissoes_df = pd.read_csv(\"dataset/salario_profissoes - salario_profissoes.csv\")\n",
    "preco_gasolina_df = pd.read_csv(\"dataset/preco da gasolina - preco da gasolina.csv\")"
   ]
  },
  {
   "cell_type": "code",
   "execution_count": 224,
   "metadata": {},
   "outputs": [
    {
     "data": {
      "text/html": [
       "<div>\n",
       "<style scoped>\n",
       "    .dataframe tbody tr th:only-of-type {\n",
       "        vertical-align: middle;\n",
       "    }\n",
       "\n",
       "    .dataframe tbody tr th {\n",
       "        vertical-align: top;\n",
       "    }\n",
       "\n",
       "    .dataframe thead th {\n",
       "        text-align: right;\n",
       "    }\n",
       "</style>\n",
       "<table border=\"1\" class=\"dataframe\">\n",
       "  <thead>\n",
       "    <tr style=\"text-align: right;\">\n",
       "      <th></th>\n",
       "      <th>nome</th>\n",
       "      <th>sobrenome</th>\n",
       "      <th>ano_nascimento</th>\n",
       "      <th>sexo</th>\n",
       "      <th>cidade</th>\n",
       "      <th>profissão</th>\n",
       "      <th>experiencia profissional</th>\n",
       "      <th>estado_civil</th>\n",
       "      <th>filhos</th>\n",
       "      <th>lazer_final_de_semana</th>\n",
       "      <th>pratica_esporte</th>\n",
       "      <th>qual_esporte</th>\n",
       "      <th>quanta_vezes_na_semana_pratica_esporte</th>\n",
       "      <th>tem carro</th>\n",
       "      <th>escolaridade</th>\n",
       "    </tr>\n",
       "  </thead>\n",
       "  <tbody>\n",
       "    <tr>\n",
       "      <th>0</th>\n",
       "      <td>Dirceu</td>\n",
       "      <td>Manolo</td>\n",
       "      <td>1985</td>\n",
       "      <td>m</td>\n",
       "      <td>São Vicente</td>\n",
       "      <td>Cientista de Dados</td>\n",
       "      <td>4</td>\n",
       "      <td>Casado</td>\n",
       "      <td>1</td>\n",
       "      <td>estudar, academia, jogar video game,surfar</td>\n",
       "      <td>sim</td>\n",
       "      <td>academia</td>\n",
       "      <td>3.0</td>\n",
       "      <td>sim</td>\n",
       "      <td>Ensino Superior</td>\n",
       "    </tr>\n",
       "    <tr>\n",
       "      <th>1</th>\n",
       "      <td>Maria</td>\n",
       "      <td>Silva</td>\n",
       "      <td>1970</td>\n",
       "      <td>f</td>\n",
       "      <td>Santos</td>\n",
       "      <td>dona de casa</td>\n",
       "      <td>2</td>\n",
       "      <td>Casada</td>\n",
       "      <td>3</td>\n",
       "      <td>ver tv</td>\n",
       "      <td>não</td>\n",
       "      <td>-</td>\n",
       "      <td>0.0</td>\n",
       "      <td>não</td>\n",
       "      <td>Ensino Médio</td>\n",
       "    </tr>\n",
       "    <tr>\n",
       "      <th>2</th>\n",
       "      <td>Adalberto</td>\n",
       "      <td>Martins</td>\n",
       "      <td>1990</td>\n",
       "      <td>m</td>\n",
       "      <td>São Paulo</td>\n",
       "      <td>desempregado</td>\n",
       "      <td>0</td>\n",
       "      <td>Solteiro</td>\n",
       "      <td>1</td>\n",
       "      <td>jogar bola</td>\n",
       "      <td>sim</td>\n",
       "      <td>jogo bola</td>\n",
       "      <td>2.0</td>\n",
       "      <td>sim</td>\n",
       "      <td>Ensino Superior</td>\n",
       "    </tr>\n",
       "    <tr>\n",
       "      <th>3</th>\n",
       "      <td>João</td>\n",
       "      <td>Aparecido</td>\n",
       "      <td>1950</td>\n",
       "      <td>m</td>\n",
       "      <td>Monte Alto</td>\n",
       "      <td>Gerente de Projeto</td>\n",
       "      <td>3</td>\n",
       "      <td>Viuvo</td>\n",
       "      <td>2</td>\n",
       "      <td>Nã faço nada</td>\n",
       "      <td>NaN</td>\n",
       "      <td>-</td>\n",
       "      <td>NaN</td>\n",
       "      <td>sim</td>\n",
       "      <td>Ensino Superior</td>\n",
       "    </tr>\n",
       "  </tbody>\n",
       "</table>\n",
       "</div>"
      ],
      "text/plain": [
       "        nome  sobrenome  ano_nascimento sexo       cidade           profissão  \\\n",
       "0     Dirceu     Manolo            1985    m  São Vicente  Cientista de Dados   \n",
       "1      Maria      Silva            1970    f       Santos        dona de casa   \n",
       "2  Adalberto    Martins            1990    m    São Paulo        desempregado   \n",
       "3       João  Aparecido            1950    m   Monte Alto  Gerente de Projeto   \n",
       "\n",
       "   experiencia profissional estado_civil  filhos  \\\n",
       "0                         4       Casado       1   \n",
       "1                         2       Casada       3   \n",
       "2                         0     Solteiro       1   \n",
       "3                         3        Viuvo       2   \n",
       "\n",
       "                        lazer_final_de_semana pratica_esporte qual_esporte  \\\n",
       "0  estudar, academia, jogar video game,surfar             sim     academia   \n",
       "1                                      ver tv             não            -   \n",
       "2                                  jogar bola             sim    jogo bola   \n",
       "3                                Nã faço nada             NaN            -   \n",
       "\n",
       "   quanta_vezes_na_semana_pratica_esporte tem carro     escolaridade  \n",
       "0                                     3.0       sim  Ensino Superior  \n",
       "1                                     0.0       não     Ensino Médio  \n",
       "2                                     2.0       sim  Ensino Superior  \n",
       "3                                     NaN       sim  Ensino Superior  "
      ]
     },
     "execution_count": 224,
     "metadata": {},
     "output_type": "execute_result"
    }
   ],
   "source": [
    "cadastro_df.head(4)"
   ]
  },
  {
   "cell_type": "code",
   "execution_count": 227,
   "metadata": {},
   "outputs": [
    {
     "data": {
      "text/html": [
       "<div>\n",
       "<style scoped>\n",
       "    .dataframe tbody tr th:only-of-type {\n",
       "        vertical-align: middle;\n",
       "    }\n",
       "\n",
       "    .dataframe tbody tr th {\n",
       "        vertical-align: top;\n",
       "    }\n",
       "\n",
       "    .dataframe thead th {\n",
       "        text-align: right;\n",
       "    }\n",
       "</style>\n",
       "<table border=\"1\" class=\"dataframe\">\n",
       "  <thead>\n",
       "    <tr style=\"text-align: right;\">\n",
       "      <th></th>\n",
       "      <th>Profissões</th>\n",
       "      <th>salario até 3 anos</th>\n",
       "      <th>salaior +3 anos</th>\n",
       "    </tr>\n",
       "  </thead>\n",
       "  <tbody>\n",
       "    <tr>\n",
       "      <th>0</th>\n",
       "      <td>Cientista de Dados</td>\n",
       "      <td>10000</td>\n",
       "      <td>14000</td>\n",
       "    </tr>\n",
       "    <tr>\n",
       "      <th>1</th>\n",
       "      <td>dona de casa</td>\n",
       "      <td>1200</td>\n",
       "      <td>1200</td>\n",
       "    </tr>\n",
       "    <tr>\n",
       "      <th>2</th>\n",
       "      <td>desempregado</td>\n",
       "      <td>0</td>\n",
       "      <td>0</td>\n",
       "    </tr>\n",
       "    <tr>\n",
       "      <th>3</th>\n",
       "      <td>Gerente de Projeto</td>\n",
       "      <td>5000</td>\n",
       "      <td>10000</td>\n",
       "    </tr>\n",
       "  </tbody>\n",
       "</table>\n",
       "</div>"
      ],
      "text/plain": [
       "           Profissões  salario até 3 anos  salaior +3 anos\n",
       "0  Cientista de Dados               10000            14000\n",
       "1        dona de casa                1200             1200\n",
       "2        desempregado                   0                0\n",
       "3  Gerente de Projeto                5000            10000"
      ]
     },
     "execution_count": 227,
     "metadata": {},
     "output_type": "execute_result"
    }
   ],
   "source": [
    "salario_profissoes_df.head(4)"
   ]
  },
  {
   "cell_type": "code",
   "execution_count": 103,
   "metadata": {},
   "outputs": [
    {
     "data": {
      "text/html": [
       "<div>\n",
       "<style scoped>\n",
       "    .dataframe tbody tr th:only-of-type {\n",
       "        vertical-align: middle;\n",
       "    }\n",
       "\n",
       "    .dataframe tbody tr th {\n",
       "        vertical-align: top;\n",
       "    }\n",
       "\n",
       "    .dataframe thead th {\n",
       "        text-align: right;\n",
       "    }\n",
       "</style>\n",
       "<table border=\"1\" class=\"dataframe\">\n",
       "  <thead>\n",
       "    <tr style=\"text-align: right;\">\n",
       "      <th></th>\n",
       "      <th>cidade</th>\n",
       "      <th>preço</th>\n",
       "    </tr>\n",
       "  </thead>\n",
       "  <tbody>\n",
       "    <tr>\n",
       "      <th>0</th>\n",
       "      <td>São Vicente</td>\n",
       "      <td>3,45</td>\n",
       "    </tr>\n",
       "    <tr>\n",
       "      <th>1</th>\n",
       "      <td>Santos</td>\n",
       "      <td>3,33</td>\n",
       "    </tr>\n",
       "    <tr>\n",
       "      <th>2</th>\n",
       "      <td>São Paulo</td>\n",
       "      <td>3,23</td>\n",
       "    </tr>\n",
       "    <tr>\n",
       "      <th>3</th>\n",
       "      <td>Monte Alto</td>\n",
       "      <td>4</td>\n",
       "    </tr>\n",
       "  </tbody>\n",
       "</table>\n",
       "</div>"
      ],
      "text/plain": [
       "        cidade preço\n",
       "0  São Vicente  3,45\n",
       "1       Santos  3,33\n",
       "2    São Paulo  3,23\n",
       "3   Monte Alto     4"
      ]
     },
     "execution_count": 103,
     "metadata": {},
     "output_type": "execute_result"
    }
   ],
   "source": [
    "preco_gasolina_df.head(4)"
   ]
  },
  {
   "cell_type": "code",
   "execution_count": 440,
   "metadata": {},
   "outputs": [
    {
     "name": "stdout",
     "output_type": "stream",
     "text": [
      "A idade média das pessoas do cadastro é 32.73 anos\n"
     ]
    }
   ],
   "source": [
    "# Exercício 1: Qual a idade média das pessoas no cadastro ?\n",
    "\n",
    "from datetime import datetime\n",
    "\n",
    "now = datetime.now() \n",
    "ano_atual = now.year # essa variável sempre trará o ano atual do sistema\n",
    "qtde = len(cadastro_df.ano_nascimento) \n",
    "cadastro_df['idade'] = ano_atual - cadastro_df.ano_nascimento\n",
    "total_idades = sum(cadastro_df.idade)\n",
    "\n",
    "media_idades = print(\"A idade média das pessoas do cadastro é\", round((total_idades / qtde),2), \"anos\")"
   ]
  },
  {
   "cell_type": "code",
   "execution_count": 441,
   "metadata": {},
   "outputs": [
    {
     "name": "stdout",
     "output_type": "stream",
     "text": [
      "No cadastro existem 16 homens e 14 mulheres\n"
     ]
    }
   ],
   "source": [
    "# Exercício 2 e 3: Quantos homens tem no cadastro ? Quantas mulheres tem no cadastro ?\n",
    "\n",
    "qtd_homens = cadastro_df.loc[cadastro_df.sexo == 'm'].sexo.value_counts()\n",
    "qtd_mulheres = cadastro_df.loc[cadastro_df.sexo == 'f'].sexo.value_counts()\n",
    "\n",
    "print(\"No cadastro existem\", \"%.0f\"%qtd_homens,\"homens e\",\"%.0f\"%qtd_mulheres, \"mulheres\")\n"
   ]
  },
  {
   "cell_type": "code",
   "execution_count": 168,
   "metadata": {},
   "outputs": [
    {
     "name": "stdout",
     "output_type": "stream",
     "text": [
      "A idade média dos homens é de 32 anos e das mulheres é 34 anos\n"
     ]
    }
   ],
   "source": [
    "# Exercício 4: Qual a idade média dos homens e das mulheres ?\n",
    "\n",
    "idade_media_homens = cadastro_df.loc[cadastro_df.sexo == 'm'].idade.sum() / qtd_homens\n",
    "idade_media_mulheres = cadastro_df.loc[cadastro_df.sexo == 'f'].idade.sum() / qtd_mulheres\n",
    "\n",
    "print(\"A idade média dos homens é de\", \"%.0f\"%idade_media_homens,\"anos e das mulheres é\",\"%.0f\"%idade_media_mulheres, \"anos\")\n"
   ]
  },
  {
   "cell_type": "code",
   "execution_count": 173,
   "metadata": {},
   "outputs": [],
   "source": [
    "escolaridade = cadastro_df.loc[cadastro_df.escolaridade != ''].escolaridade.value_counts()"
   ]
  },
  {
   "cell_type": "code",
   "execution_count": 398,
   "metadata": {},
   "outputs": [
    {
     "data": {
      "text/plain": [
       "Ensino Superior    12\n",
       "ensino superior     9\n",
       "Ensino Médio        4\n",
       "ensino médio        3\n",
       "ensino Médio        1\n",
       "Ensimo Tecnico      1\n",
       "Name: escolaridade, dtype: int64"
      ]
     },
     "execution_count": 398,
     "metadata": {},
     "output_type": "execute_result"
    }
   ],
   "source": [
    "escolaridade"
   ]
  },
  {
   "cell_type": "code",
   "execution_count": 442,
   "metadata": {},
   "outputs": [
    {
     "data": {
      "text/plain": [
       "<matplotlib.axes._subplots.AxesSubplot at 0x1551993d310>"
      ]
     },
     "execution_count": 442,
     "metadata": {},
     "output_type": "execute_result"
    },
    {
     "data": {
      "image/png": "[encoded data removed]",
      "text/plain": [
       "<Figure size 432x288 with 1 Axes>"
      ]
     },
     "metadata": {
      "needs_background": "light"
     },
     "output_type": "display_data"
    }
   ],
   "source": [
    "# Exercício 5: Crie um gráfico de barras e mostre a distribuição de escolaridade no cadastro\n",
    "\n",
    "escolaridade.plot(kind='bar')"
   ]
  },
  {
   "cell_type": "code",
   "execution_count": 235,
   "metadata": {},
   "outputs": [],
   "source": [
    "# não consegui renomear nas tabelas principais, então criei essas duas para continuar o exercício\n",
    "salario_renomeado_df = salario_profissoes_df.rename(columns={'Profissões':'profissoes', 'salario até 3 anos':'salarioate3anos','salaior +3 anos':'salariomaior3anos'})\n",
    "cadastro_renomeado_df = cadastro_df.rename(columns={'profissão':'profissoes', 'experiencia profissional': 'experiencia_profissional','tem carro':'tem_carro'})"
   ]
  },
  {
   "cell_type": "code",
   "execution_count": 237,
   "metadata": {},
   "outputs": [
    {
     "data": {
      "text/html": [
       "<div>\n",
       "<style scoped>\n",
       "    .dataframe tbody tr th:only-of-type {\n",
       "        vertical-align: middle;\n",
       "    }\n",
       "\n",
       "    .dataframe tbody tr th {\n",
       "        vertical-align: top;\n",
       "    }\n",
       "\n",
       "    .dataframe thead th {\n",
       "        text-align: right;\n",
       "    }\n",
       "</style>\n",
       "<table border=\"1\" class=\"dataframe\">\n",
       "  <thead>\n",
       "    <tr style=\"text-align: right;\">\n",
       "      <th></th>\n",
       "      <th>nome</th>\n",
       "      <th>sobrenome</th>\n",
       "      <th>ano_nascimento</th>\n",
       "      <th>sexo</th>\n",
       "      <th>cidade</th>\n",
       "      <th>profissoes</th>\n",
       "      <th>experiencia_profissional</th>\n",
       "      <th>estado_civil</th>\n",
       "      <th>filhos</th>\n",
       "      <th>lazer_final_de_semana</th>\n",
       "      <th>pratica_esporte</th>\n",
       "      <th>qual_esporte</th>\n",
       "      <th>quanta_vezes_na_semana_pratica_esporte</th>\n",
       "      <th>tem_carro</th>\n",
       "      <th>escolaridade</th>\n",
       "    </tr>\n",
       "  </thead>\n",
       "  <tbody>\n",
       "    <tr>\n",
       "      <th>0</th>\n",
       "      <td>Dirceu</td>\n",
       "      <td>Manolo</td>\n",
       "      <td>1985</td>\n",
       "      <td>m</td>\n",
       "      <td>São Vicente</td>\n",
       "      <td>Cientista de Dados</td>\n",
       "      <td>4</td>\n",
       "      <td>Casado</td>\n",
       "      <td>1</td>\n",
       "      <td>estudar, academia, jogar video game,surfar</td>\n",
       "      <td>sim</td>\n",
       "      <td>academia</td>\n",
       "      <td>3.0</td>\n",
       "      <td>sim</td>\n",
       "      <td>Ensino Superior</td>\n",
       "    </tr>\n",
       "    <tr>\n",
       "      <th>1</th>\n",
       "      <td>Maria</td>\n",
       "      <td>Silva</td>\n",
       "      <td>1970</td>\n",
       "      <td>f</td>\n",
       "      <td>Santos</td>\n",
       "      <td>dona de casa</td>\n",
       "      <td>2</td>\n",
       "      <td>Casada</td>\n",
       "      <td>3</td>\n",
       "      <td>ver tv</td>\n",
       "      <td>não</td>\n",
       "      <td>-</td>\n",
       "      <td>0.0</td>\n",
       "      <td>não</td>\n",
       "      <td>Ensino Médio</td>\n",
       "    </tr>\n",
       "    <tr>\n",
       "      <th>2</th>\n",
       "      <td>Adalberto</td>\n",
       "      <td>Martins</td>\n",
       "      <td>1990</td>\n",
       "      <td>m</td>\n",
       "      <td>São Paulo</td>\n",
       "      <td>desempregado</td>\n",
       "      <td>0</td>\n",
       "      <td>Solteiro</td>\n",
       "      <td>1</td>\n",
       "      <td>jogar bola</td>\n",
       "      <td>sim</td>\n",
       "      <td>jogo bola</td>\n",
       "      <td>2.0</td>\n",
       "      <td>sim</td>\n",
       "      <td>Ensino Superior</td>\n",
       "    </tr>\n",
       "    <tr>\n",
       "      <th>3</th>\n",
       "      <td>João</td>\n",
       "      <td>Aparecido</td>\n",
       "      <td>1950</td>\n",
       "      <td>m</td>\n",
       "      <td>Monte Alto</td>\n",
       "      <td>Gerente de Projeto</td>\n",
       "      <td>3</td>\n",
       "      <td>Viuvo</td>\n",
       "      <td>2</td>\n",
       "      <td>Nã faço nada</td>\n",
       "      <td>NaN</td>\n",
       "      <td>-</td>\n",
       "      <td>NaN</td>\n",
       "      <td>sim</td>\n",
       "      <td>Ensino Superior</td>\n",
       "    </tr>\n",
       "  </tbody>\n",
       "</table>\n",
       "</div>"
      ],
      "text/plain": [
       "        nome  sobrenome  ano_nascimento sexo       cidade          profissoes  \\\n",
       "0     Dirceu     Manolo            1985    m  São Vicente  Cientista de Dados   \n",
       "1      Maria      Silva            1970    f       Santos        dona de casa   \n",
       "2  Adalberto    Martins            1990    m    São Paulo        desempregado   \n",
       "3       João  Aparecido            1950    m   Monte Alto  Gerente de Projeto   \n",
       "\n",
       "   experiencia_profissional estado_civil  filhos  \\\n",
       "0                         4       Casado       1   \n",
       "1                         2       Casada       3   \n",
       "2                         0     Solteiro       1   \n",
       "3                         3        Viuvo       2   \n",
       "\n",
       "                        lazer_final_de_semana pratica_esporte qual_esporte  \\\n",
       "0  estudar, academia, jogar video game,surfar             sim     academia   \n",
       "1                                      ver tv             não            -   \n",
       "2                                  jogar bola             sim    jogo bola   \n",
       "3                                Nã faço nada             NaN            -   \n",
       "\n",
       "   quanta_vezes_na_semana_pratica_esporte tem_carro     escolaridade  \n",
       "0                                     3.0       sim  Ensino Superior  \n",
       "1                                     0.0       não     Ensino Médio  \n",
       "2                                     2.0       sim  Ensino Superior  \n",
       "3                                     NaN       sim  Ensino Superior  "
      ]
     },
     "execution_count": 237,
     "metadata": {},
     "output_type": "execute_result"
    }
   ],
   "source": [
    "cadastro_renomeado_df.head(4)"
   ]
  },
  {
   "cell_type": "code",
   "execution_count": 238,
   "metadata": {},
   "outputs": [],
   "source": [
    "salarios_cadastro_df = cadastro_renomeado_df.merge(salario_renomeado_df, left_on='profissoes',right_on='profissoes')"
   ]
  },
  {
   "cell_type": "code",
   "execution_count": 239,
   "metadata": {},
   "outputs": [
    {
     "data": {
      "text/html": [
       "<div>\n",
       "<style scoped>\n",
       "    .dataframe tbody tr th:only-of-type {\n",
       "        vertical-align: middle;\n",
       "    }\n",
       "\n",
       "    .dataframe tbody tr th {\n",
       "        vertical-align: top;\n",
       "    }\n",
       "\n",
       "    .dataframe thead th {\n",
       "        text-align: right;\n",
       "    }\n",
       "</style>\n",
       "<table border=\"1\" class=\"dataframe\">\n",
       "  <thead>\n",
       "    <tr style=\"text-align: right;\">\n",
       "      <th></th>\n",
       "      <th>nome</th>\n",
       "      <th>sobrenome</th>\n",
       "      <th>ano_nascimento</th>\n",
       "      <th>sexo</th>\n",
       "      <th>cidade</th>\n",
       "      <th>profissoes</th>\n",
       "      <th>experiencia_profissional</th>\n",
       "      <th>estado_civil</th>\n",
       "      <th>filhos</th>\n",
       "      <th>lazer_final_de_semana</th>\n",
       "      <th>pratica_esporte</th>\n",
       "      <th>qual_esporte</th>\n",
       "      <th>quanta_vezes_na_semana_pratica_esporte</th>\n",
       "      <th>tem_carro</th>\n",
       "      <th>escolaridade</th>\n",
       "      <th>salarioate3anos</th>\n",
       "      <th>salariomaior3anos</th>\n",
       "    </tr>\n",
       "  </thead>\n",
       "  <tbody>\n",
       "    <tr>\n",
       "      <th>0</th>\n",
       "      <td>Dirceu</td>\n",
       "      <td>Manolo</td>\n",
       "      <td>1985</td>\n",
       "      <td>m</td>\n",
       "      <td>São Vicente</td>\n",
       "      <td>Cientista de Dados</td>\n",
       "      <td>4</td>\n",
       "      <td>Casado</td>\n",
       "      <td>1</td>\n",
       "      <td>estudar, academia, jogar video game,surfar</td>\n",
       "      <td>sim</td>\n",
       "      <td>academia</td>\n",
       "      <td>3.0</td>\n",
       "      <td>sim</td>\n",
       "      <td>Ensino Superior</td>\n",
       "      <td>10000</td>\n",
       "      <td>14000</td>\n",
       "    </tr>\n",
       "    <tr>\n",
       "      <th>1</th>\n",
       "      <td>Maria</td>\n",
       "      <td>Silva</td>\n",
       "      <td>1970</td>\n",
       "      <td>f</td>\n",
       "      <td>Santos</td>\n",
       "      <td>dona de casa</td>\n",
       "      <td>2</td>\n",
       "      <td>Casada</td>\n",
       "      <td>3</td>\n",
       "      <td>ver tv</td>\n",
       "      <td>não</td>\n",
       "      <td>-</td>\n",
       "      <td>0.0</td>\n",
       "      <td>não</td>\n",
       "      <td>Ensino Médio</td>\n",
       "      <td>1200</td>\n",
       "      <td>1200</td>\n",
       "    </tr>\n",
       "    <tr>\n",
       "      <th>2</th>\n",
       "      <td>Adalberto</td>\n",
       "      <td>Martins</td>\n",
       "      <td>1990</td>\n",
       "      <td>m</td>\n",
       "      <td>São Paulo</td>\n",
       "      <td>desempregado</td>\n",
       "      <td>0</td>\n",
       "      <td>Solteiro</td>\n",
       "      <td>1</td>\n",
       "      <td>jogar bola</td>\n",
       "      <td>sim</td>\n",
       "      <td>jogo bola</td>\n",
       "      <td>2.0</td>\n",
       "      <td>sim</td>\n",
       "      <td>Ensino Superior</td>\n",
       "      <td>0</td>\n",
       "      <td>0</td>\n",
       "    </tr>\n",
       "    <tr>\n",
       "      <th>3</th>\n",
       "      <td>Lucas</td>\n",
       "      <td>Silva e Silva</td>\n",
       "      <td>1995</td>\n",
       "      <td>m</td>\n",
       "      <td>Goias</td>\n",
       "      <td>desempregado</td>\n",
       "      <td>1</td>\n",
       "      <td>Solteiro</td>\n",
       "      <td>0</td>\n",
       "      <td>estudo</td>\n",
       "      <td>sim</td>\n",
       "      <td>correr na rua</td>\n",
       "      <td>4.0</td>\n",
       "      <td>não</td>\n",
       "      <td>Ensino Superior</td>\n",
       "      <td>0</td>\n",
       "      <td>0</td>\n",
       "    </tr>\n",
       "    <tr>\n",
       "      <th>4</th>\n",
       "      <td>João</td>\n",
       "      <td>Aparecido</td>\n",
       "      <td>1950</td>\n",
       "      <td>m</td>\n",
       "      <td>Monte Alto</td>\n",
       "      <td>Gerente de Projeto</td>\n",
       "      <td>3</td>\n",
       "      <td>Viuvo</td>\n",
       "      <td>2</td>\n",
       "      <td>Nã faço nada</td>\n",
       "      <td>NaN</td>\n",
       "      <td>-</td>\n",
       "      <td>NaN</td>\n",
       "      <td>sim</td>\n",
       "      <td>Ensino Superior</td>\n",
       "      <td>5000</td>\n",
       "      <td>10000</td>\n",
       "    </tr>\n",
       "  </tbody>\n",
       "</table>\n",
       "</div>"
      ],
      "text/plain": [
       "        nome      sobrenome  ano_nascimento sexo       cidade  \\\n",
       "0     Dirceu         Manolo            1985    m  São Vicente   \n",
       "1      Maria          Silva            1970    f       Santos   \n",
       "2  Adalberto        Martins            1990    m    São Paulo   \n",
       "3      Lucas  Silva e Silva            1995    m        Goias   \n",
       "4       João      Aparecido            1950    m   Monte Alto   \n",
       "\n",
       "           profissoes  experiencia_profissional estado_civil  filhos  \\\n",
       "0  Cientista de Dados                         4       Casado       1   \n",
       "1        dona de casa                         2       Casada       3   \n",
       "2        desempregado                         0     Solteiro       1   \n",
       "3        desempregado                         1     Solteiro       0   \n",
       "4  Gerente de Projeto                         3        Viuvo       2   \n",
       "\n",
       "                        lazer_final_de_semana pratica_esporte   qual_esporte  \\\n",
       "0  estudar, academia, jogar video game,surfar             sim       academia   \n",
       "1                                      ver tv             não              -   \n",
       "2                                  jogar bola             sim      jogo bola   \n",
       "3                                      estudo             sim  correr na rua   \n",
       "4                                Nã faço nada             NaN              -   \n",
       "\n",
       "   quanta_vezes_na_semana_pratica_esporte tem_carro     escolaridade  \\\n",
       "0                                     3.0       sim  Ensino Superior   \n",
       "1                                     0.0       não     Ensino Médio   \n",
       "2                                     2.0       sim  Ensino Superior   \n",
       "3                                     4.0       não  Ensino Superior   \n",
       "4                                     NaN       sim  Ensino Superior   \n",
       "\n",
       "   salarioate3anos  salariomaior3anos  \n",
       "0            10000              14000  \n",
       "1             1200               1200  \n",
       "2                0                  0  \n",
       "3                0                  0  \n",
       "4             5000              10000  "
      ]
     },
     "execution_count": 239,
     "metadata": {},
     "output_type": "execute_result"
    }
   ],
   "source": [
    "salarios_cadastro_df.head(5)"
   ]
  },
  {
   "cell_type": "code",
   "execution_count": 250,
   "metadata": {},
   "outputs": [],
   "source": [
    "media_sal_menor3anos = salarios_cadastro_df.loc[salarios_cadastro_df.experiencia_profissional <= 3].salarioate3anos.sum()\n",
    "media_sal_maior3anos = salarios_cadastro_df.loc[salarios_cadastro_df.experiencia_profissional > 3].salariomaior3anos.sum()"
   ]
  },
  {
   "cell_type": "code",
   "execution_count": 297,
   "metadata": {},
   "outputs": [
    {
     "name": "stdout",
     "output_type": "stream",
     "text": [
      "A média salarial geral é de 4463.333333333333 reais\n"
     ]
    }
   ],
   "source": [
    "# Exercício 6: Mostre a Média Salarial do cadastro \n",
    "\n",
    "print(\"A média salarial geral é de\",\"%.2f\"%((media_sal_menor3anos + media_sal_maior3anos)/qtde), \"rea\")"
   ]
  },
  {
   "cell_type": "code",
   "execution_count": 264,
   "metadata": {},
   "outputs": [],
   "source": [
    "maiorsalario = salarios_cadastro_df.loc[salarios_cadastro_df.experiencia_profissional > 3].salariomaior3anos.max()"
   ]
  },
  {
   "cell_type": "code",
   "execution_count": 281,
   "metadata": {},
   "outputs": [],
   "source": [
    "maiorsalario_df = salarios_cadastro_df.sort_values(by=['salariomaior3anos'], ascending=False)"
   ]
  },
  {
   "cell_type": "code",
   "execution_count": 443,
   "metadata": {},
   "outputs": [
    {
     "name": "stdout",
     "output_type": "stream",
     "text": [
      "Quem tem o maior salário é 9    Mirtes , o salário é 20000.00\n"
     ]
    }
   ],
   "source": [
    "# Exercício 7: Quem tem o maior salário \n",
    "\n",
    "print(\"Quem tem o maior salário é\", \"%.11s\"%maiorsalario_df.nome.head(1),\", o salário é\",\"%.2f\"%maiorsalario_df.salariomaior3anos.head(1))"
   ]
  },
  {
   "cell_type": "code",
   "execution_count": 343,
   "metadata": {},
   "outputs": [],
   "source": [
    "menorsalario_df = salarios_cadastro_df.loc[salarios_cadastro_df.profissoes != 'desempregado'].sort_values(by=['salarioate3anos'], ascending=True)"
   ]
  },
  {
   "cell_type": "code",
   "execution_count": 444,
   "metadata": {},
   "outputs": [
    {
     "name": "stdout",
     "output_type": "stream",
     "text": [
      "Quem tem o menor salário é 11    Gabriel , o salário é 0.00 ele é 11    estudante\n"
     ]
    }
   ],
   "source": [
    "# Exercício 8: Tirando desempregado quem recebe menos \n",
    "\n",
    "print(\"Quem tem o menor salário é\", \"%.13s\"%menorsalario_df.nome.head(1),\", o salário é\",\"%.2f\"%menorsalario_df.salariomaior3anos.head(1), \"ele é\",\"%.15s\"%menorsalario_df.profissoes.head(1))"
   ]
  },
  {
   "cell_type": "code",
   "execution_count": 445,
   "metadata": {},
   "outputs": [
    {
     "data": {
      "text/plain": [
       "caminhar, ler livros e ficar com o filho    1\n",
       "caminhar, ficar com os filhos               1\n",
       "caminhar                                    1\n",
       "Name: lazer_final_de_semana, dtype: int64"
      ]
     },
     "execution_count": 445,
     "metadata": {},
     "output_type": "execute_result"
    }
   ],
   "source": [
    "# Exercício 9: Quantas pessoas gostam de caminhar no final de semana \n",
    "\n",
    "caminhar_fds = salarios_cadastro_df.loc[salarios_cadastro_df.lazer_final_de_semana.str.contains(\"caminhar\")].lazer_final_de_semana.value_counts()\n",
    "caminhar_fds"
   ]
  },
  {
   "cell_type": "code",
   "execution_count": 451,
   "metadata": {},
   "outputs": [
    {
     "data": {
      "text/plain": [
       "<matplotlib.axes._subplots.AxesSubplot at 0x155199e9e20>"
      ]
     },
     "execution_count": 451,
     "metadata": {},
     "output_type": "execute_result"
    },
    {
     "data": {
      "image/png": "[encoded data removed]",
      "text/plain": [
       "<Figure size 432x288 with 1 Axes>"
      ]
     },
     "metadata": {},
     "output_type": "display_data"
    }
   ],
   "source": [
    "# Exercicio 10: Crie um gráfico mostrando entre a relação de escolaridade e quem pratica esporte  \n",
    "\n",
    "escolaridade_esporte = cadastro_df.loc[(cadastro_df.escolaridade != '') & (cadastro_df.pratica_esporte == 'sim')].escolaridade.value_counts()\n",
    "sizes = escolaridade_esporte\n",
    "escolaridade_esporte.plot(kind='pie')"
   ]
  },
  {
   "cell_type": "code",
   "execution_count": 454,
   "metadata": {},
   "outputs": [
    {
     "data": {
      "text/plain": [
       "<matplotlib.axes._subplots.AxesSubplot at 0x1551842b880>"
      ]
     },
     "execution_count": 454,
     "metadata": {},
     "output_type": "execute_result"
    },
    {
     "data": {
      "image/png": "[encoded data removed]",
      "text/plain": [
       "<Figure size 432x288 with 1 Axes>"
      ]
     },
     "metadata": {
      "needs_background": "light"
     },
     "output_type": "display_data"
    }
   ],
   "source": [
    "# Exercício 12: Mostre de forma gráfica a distribuição de estados do cadastro (cidades, não tem estado no cadastro)\n",
    "\n",
    "cidades = cadastro_df.loc[cadastro_df.cidade != ''].cidade.value_counts()\n",
    "cidades.plot(kind='bar')"
   ]
  },
  {
   "cell_type": "code",
   "execution_count": null,
   "metadata": {},
   "outputs": [],
   "source": [
    "# Thiago, não consegui fazer a 11 e não consegui formatar bonitinho com html, mas fiz o que deu :D"
   ]
  }
 ],
 "metadata": {
  "kernelspec": {
   "display_name": "Python 3",
   "language": "python",
   "name": "python3"
  },
  "language_info": {
   "codemirror_mode": {
    "name": "ipython",
    "version": 3
   },
   "file_extension": ".py",
   "mimetype": "text/x-python",
   "name": "python",
   "nbconvert_exporter": "python",
   "pygments_lexer": "ipython3",
   "version": "3.8.3"
  }
 },
 "nbformat": 4,
 "nbformat_minor": 4
}
