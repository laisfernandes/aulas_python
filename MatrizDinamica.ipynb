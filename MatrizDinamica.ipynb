{
 "cells": [
  {
   "cell_type": "code",
   "execution_count": 11,
   "metadata": {},
   "outputs": [
    {
     "name": "stdin",
     "output_type": "stream",
     "text": [
      "Linhas:  2\n",
      "Colunas:  2\n"
     ]
    },
    {
     "name": "stdout",
     "output_type": "stream",
     "text": [
      "Matriz 2x2:\n"
     ]
    },
    {
     "name": "stdin",
     "output_type": "stream",
     "text": [
      "Valor 1a. linha, 1a. coluna:  10\n",
      "Valor 1a. linha, 2a. coluna:  5\n",
      "Valor 2a. linha, 1a. coluna:  8\n",
      "Valor 2a. linha, 2a. coluna:  4\n"
     ]
    },
    {
     "data": {
      "text/plain": [
       "[[10, 5], [8, 4]]"
      ]
     },
     "execution_count": 11,
     "metadata": {},
     "output_type": "execute_result"
    }
   ],
   "source": [
    "# entrando com a quantidade de linhas e colunas da matriz\n",
    "linha = int(input(\"Linhas: \"))\n",
    "coluna = int(input(\"Colunas: \"))\n",
    "\n",
    "# criando a função de ler a matriz\n",
    "def leia_matriz(linha, coluna):\n",
    "    \n",
    "    # printa o tamanho da matriz\n",
    "    print(\"Matriz %dx%d:\" %(linha,coluna))\n",
    "    # cria uma lista vazia\n",
    "    matriz = []\n",
    "    # validando a posição linha da matriz\n",
    "    for i in range(linha):\n",
    "        matriz.append([])\n",
    "        # validando a posição linha da matriz\n",
    "        for j in range(coluna):\n",
    "            # entrando com os valores das linhas e colunas\n",
    "            valor = int(input(\"Valor %da. linha, %da. coluna: \" %(i+1,j+1)))\n",
    "            # adicionando o valor digitado na matriz na posição do for\n",
    "            matriz[i].append(valor)\n",
    "            \n",
    "    return matriz\n",
    "\n",
    "# apresentando a matriz\n",
    "leia_matriz(linha,coluna)"
   ]
  },
  {
   "cell_type": "code",
   "execution_count": 43,
   "metadata": {},
   "outputs": [
    {
     "name": "stdout",
     "output_type": "stream",
     "text": [
      "17 11 \n",
      "10 11 \n",
      "3 3 \n"
     ]
    }
   ],
   "source": [
    "import numpy as np\n",
    "\n",
    "# criando uma matriz aleatória\n",
    "matriz = np.random.randint(1,20,6).reshape(2,2)\n",
    "\n",
    "# criando a função para imprimir a matriz\n",
    "def imprime_matriz(matriz):\n",
    "        \n",
    "    for linha in matriz:\n",
    "        for valor in linha:\n",
    "            print(valor, end = \" \")\n",
    "        print()\n",
    "\n",
    "imprime_matriz(matriz)"
   ]
  },
  {
   "cell_type": "code",
   "execution_count": 63,
   "metadata": {},
   "outputs": [
    {
     "name": "stdin",
     "output_type": "stream",
     "text": [
      "Digite o número de linhas da matriz quadrada:  2\n"
     ]
    },
    {
     "name": "stdout",
     "output_type": "stream",
     "text": [
      "Matriz 2x2:\n"
     ]
    },
    {
     "name": "stdin",
     "output_type": "stream",
     "text": [
      "Valor da 1a. linha, 1a. coluna:  10\n",
      "Valor da 1a. linha, 2a. coluna:  2\n",
      "Valor da 2a. linha, 1a. coluna:  2\n",
      "Valor da 2a. linha, 2a. coluna:  10\n"
     ]
    },
    {
     "name": "stdout",
     "output_type": "stream",
     "text": [
      "Simétrica.\n"
     ]
    }
   ],
   "source": [
    "# entrando com o valor da linha na matriz quadrada, o mesmo valor será aplicado a coluna\n",
    "linha = int(input(\"Digite o número de linhas da matriz quadrada: \"))\n",
    "\n",
    "# apresentando o tamanho da matriz\n",
    "print(\"Matriz %dx%d:\" %(linha,coluna))\n",
    "\n",
    "# criando a matriz vazia\n",
    "A = []\n",
    "for i in range(coluna):\n",
    "    A.append([])\n",
    "    for j in range(linha):\n",
    "        # entrando com os valores da matriz \n",
    "        valor = input(\"Valor da %da. linha, %da. coluna: \" %(i+1,j+1))\n",
    "        A[i].append(valor)    \n",
    "\n",
    "# verificando se a matriz é simétrica\n",
    "simetrica = True\n",
    "i = 0\n",
    "while simetrica and i < linha:\n",
    "    j = 0\n",
    "    while simetrica and j < i:\n",
    "        if A[i][j] != A[j][i]:\n",
    "            simetrica = False\n",
    "        j += 1\n",
    "    i += 1\n",
    "\n",
    "if simetrica:\n",
    "    print(\"Simétrica.\")\n",
    "else:\n",
    "    print(\"Não simétrica.\")"
   ]
  },
  {
   "cell_type": "code",
   "execution_count": 79,
   "metadata": {},
   "outputs": [
    {
     "name": "stdin",
     "output_type": "stream",
     "text": [
      "Digite o numero de linhas da matriz A:  2\n"
     ]
    },
    {
     "name": "stdout",
     "output_type": "stream",
     "text": [
      "Matriz 2x2:\n"
     ]
    },
    {
     "name": "stdin",
     "output_type": "stream",
     "text": [
      "Valor 1a. linha, 1a. coluna:  2\n",
      "Valor 1a. linha, 2a. coluna:  10\n",
      "Valor 2a. linha, 1a. coluna:  6\n",
      "Valor 2a. linha, 2a. coluna:  10\n"
     ]
    },
    {
     "name": "stdout",
     "output_type": "stream",
     "text": [
      "2 10 \n",
      "6 10 \n",
      "Não simétrica.\n"
     ]
    }
   ],
   "source": [
    "# entrando com o valor (n) da linha na matriz quadrada, o mesmo valor será aplicado a coluna\n",
    "linha = int(input(\"Digite o numero de linhas da matriz A: \"))\n",
    "\n",
    "# criando a matriz (A))\n",
    "A = leia_matriz(linha, coluna)\n",
    "\n",
    "def leia_matriz(linha, coluna):\n",
    "    \n",
    "    print(\"Matriz %dx%d:\" %(linha,coluna))\n",
    "    matriz = []\n",
    "    for i in range(linha):\n",
    "        matriz.append([])\n",
    "        for j in range(coluna):\n",
    "            valor = int(input(\"Valor %da. linha, %da. coluna: \" %(i+1,j+1)))\n",
    "            matriz[i].append(valor)\n",
    "            \n",
    "    return matriz\n",
    "\n",
    "\n",
    "def imprime_matriz(A):\n",
    "    for linha in A:\n",
    "        for valor in linha:\n",
    "            print(valor, end = \" \")\n",
    "        print()\n",
    "\n",
    "imprime_matriz(A)\n",
    "\n",
    "def main():\n",
    "    simetrica = True\n",
    "    i = 0\n",
    "    while simetrica and i < linha:\n",
    "        j = 0\n",
    "        while simetrica and j < i:\n",
    "            if A[i][j] != A[j][i]:\n",
    "                simetrica = False\n",
    "            j += 1\n",
    "        i += 1\n",
    "\n",
    "    if simetrica:\n",
    "        print(\"Simétrica.\")\n",
    "    else:\n",
    "        print(\"Não simétrica.\")\n",
    "main()"
   ]
  },
  {
   "cell_type": "code",
   "execution_count": 104,
   "metadata": {},
   "outputs": [
    {
     "name": "stdin",
     "output_type": "stream",
     "text": [
      "Quantidade de linhas:  2\n",
      "Quantidade de colunas:  2\n"
     ]
    },
    {
     "name": "stdout",
     "output_type": "stream",
     "text": [
      "Matriz 2x2:\n"
     ]
    },
    {
     "name": "stdin",
     "output_type": "stream",
     "text": [
      "Valor 1a. linha, 1a. coluna:  0\n",
      "Valor 1a. linha, 2a. coluna:  0\n",
      "Valor 2a. linha, 1a. coluna:  0\n",
      "Valor 2a. linha, 2a. coluna:  0\n"
     ]
    },
    {
     "name": "stdout",
     "output_type": "stream",
     "text": [
      "A matriz tem uma linha composta por zeros.\n",
      "A matriz tem uma coluna composta por zeros.\n",
      "0 0 \n",
      "0 0 \n"
     ]
    }
   ],
   "source": [
    "linha = int(input(\"Quantidade de linhas: \"))\n",
    "coluna = int(input(\"Quantidade de colunas: \"))\n",
    "\n",
    "A = leia_matriz(linha, coluna)\n",
    "\n",
    "# iniciando as variáveis como falso e a contagem como 0\n",
    "linha_zeros = False\n",
    "i = 0\n",
    "\n",
    "while ((not linha_zeros)) and i < linha:\n",
    "    linha_somente_zeros = True\n",
    "    \n",
    "    i += 1\n",
    "\n",
    "    if linha_somente_zeros:\n",
    "        linha_zeros = True\n",
    "        \n",
    "if linha_zeros:\n",
    "    print(\"A matriz tem uma linha composta por zeros.\")\n",
    "else: \n",
    "    print(\"A matriz não tem uma linha composta por zeros.\")\n",
    "        \n",
    "coluna_zeros = False\n",
    "j = 0\n",
    "\n",
    "while ((not linha_zeros)) and i < linha:\n",
    "    coluna_somente_zeros = True\n",
    "    \n",
    "    j += 1\n",
    "\n",
    "    if linha_somente_zeros:\n",
    "        coluna_zeros = True         \n",
    "\n",
    "if linha_zeros:\n",
    "    print(\"A matriz tem uma coluna composta por zeros.\")\n",
    "else: \n",
    "    print(\"A matriz não tem uma linha composta por zeros.\")\n",
    "\n",
    "def leia_matriz(linha, coluna):\n",
    "    \n",
    "    print(\"Matriz %dx%d:\" %(linha,coluna))\n",
    "    matriz = []\n",
    "    for i in range(linha):\n",
    "        matriz.append([])\n",
    "        for j in range(coluna):\n",
    "            valor = int(input(\"Valor %da. linha, %da. coluna: \" %(i+1,j+1)))\n",
    "            matriz[i].append(valor)\n",
    "            \n",
    "    return matriz\n",
    "\n",
    "\n",
    "def imprime_matriz(A):\n",
    "    for linha in A:\n",
    "        for valor in linha:\n",
    "            print(valor, end = \" \")\n",
    "        print()\n",
    "\n",
    "imprime_matriz(A)"
   ]
  },
  {
   "cell_type": "code",
   "execution_count": null,
   "metadata": {},
   "outputs": [],
   "source": [
    "linha = 3\n",
    "coluna = 3\n",
    "\n",
    "A = ([[0,0],[0,0],[2,1]])\n",
    "\n",
    "# iniciando as variáveis como falso e a contagem como 0\n",
    "linha_zero = False\n",
    "i = 0\n",
    "j = 0\n",
    "\n",
    "while ((not linha_zero)):\n",
    "    while (i < linha):\n",
    "        i += 1\n",
    "        linha_somente_zeros = True\n",
    "        if linha_somente_zeros:\n",
    "        linha_zeros = True\n",
    "\n",
    "print(i)"
   ]
  },
  {
   "cell_type": "code",
   "execution_count": null,
   "metadata": {},
   "outputs": [],
   "source": []
  }
 ],
 "metadata": {
  "kernelspec": {
   "display_name": "Python 3",
   "language": "python",
   "name": "python3"
  },
  "language_info": {
   "codemirror_mode": {
    "name": "ipython",
    "version": 3
   },
   "file_extension": ".py",
   "mimetype": "text/x-python",
   "name": "python",
   "nbconvert_exporter": "python",
   "pygments_lexer": "ipython3",
   "version": "3.8.3"
  }
 },
 "nbformat": 4,
 "nbformat_minor": 4
}
